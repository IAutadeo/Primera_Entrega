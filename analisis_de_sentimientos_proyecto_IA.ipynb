{
  "nbformat": 4,
  "nbformat_minor": 0,
  "metadata": {
    "colab": {
      "name": "analisis de sentimientos proyecto IA",
      "private_outputs": true,
      "provenance": []
    },
    "kernelspec": {
      "name": "python3",
      "display_name": "Python 3"
    },
    "language_info": {
      "name": "python"
    }
  },
  "cells": [
    {
      "cell_type": "code",
      "metadata": {
        "id": "YSQ0G8hlD_gz"
      },
      "source": [
        "import pandas as pd \n",
        "from textblob import TextBlob\n",
        "import seaborn as sns"
      ],
      "execution_count": null,
      "outputs": []
    },
    {
      "cell_type": "code",
      "metadata": {
        "id": "trLxXNzQa_Ho"
      },
      "source": [
        "tripadvisor_df= pd.read_csv('tripadvisor_hotel_reviews.csv')"
      ],
      "execution_count": null,
      "outputs": []
    },
    {
      "cell_type": "code",
      "metadata": {
        "id": "cstAyBkFe9v7"
      },
      "source": [
        "tripadvisor_df.head(5)"
      ],
      "execution_count": null,
      "outputs": []
    },
    {
      "cell_type": "code",
      "metadata": {
        "id": "051dJtD5c1OJ"
      },
      "source": [
        "tripadvisor_df['polaridad']=tripadvisor_df['Review'].apply(lambda x: TextBlob(x).sentiment.polarity)"
      ],
      "execution_count": null,
      "outputs": []
    },
    {
      "cell_type": "code",
      "metadata": {
        "id": "Q3TiShmtgyl2"
      },
      "source": [
        "tripadvisor_df['subob']=tripadvisor_df['Review'].apply(lambda x: TextBlob(x).sentiment.subjectivity)"
      ],
      "execution_count": null,
      "outputs": []
    },
    {
      "cell_type": "code",
      "metadata": {
        "id": "tnv34yJlgbVe"
      },
      "source": [
        "print(tripadvisor_df['polaridad'].head())"
      ],
      "execution_count": null,
      "outputs": []
    },
    {
      "cell_type": "code",
      "metadata": {
        "id": "wELAoSoshM9y"
      },
      "source": [
        "print(tripadvisor_df['subob'].head())"
      ],
      "execution_count": null,
      "outputs": []
    },
    {
      "cell_type": "code",
      "metadata": {
        "id": "GjdkcvTXhTx6"
      },
      "source": [
        "print(\"polaridad\")\n",
        "print(\"valor maximo\",tripadvisor_df['polaridad'].max())\n",
        "print(\"valor minimo\",tripadvisor_df['polaridad'].min())\n",
        "print(\"media\",tripadvisor_df['polaridad'].mean())"
      ],
      "execution_count": null,
      "outputs": []
    },
    {
      "cell_type": "code",
      "metadata": {
        "id": "BDjYy3iMiddB"
      },
      "source": [
        "sns.distplot(tripadvisor_df['polaridad'])\n",
        "sns.distplot(tripadvisor_df['subob'])"
      ],
      "execution_count": null,
      "outputs": []
    },
    {
      "cell_type": "code",
      "metadata": {
        "id": "TUMMwnbyjYgu"
      },
      "source": [
        ""
      ],
      "execution_count": null,
      "outputs": []
    }
  ]
}